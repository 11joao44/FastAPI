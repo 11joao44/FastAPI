{
 "cells": [
  {
   "cell_type": "code",
   "execution_count": 3,
   "metadata": {},
   "outputs": [
    {
     "name": "stdout",
     "output_type": "stream",
     "text": [
      "{'detail': 'Not Found'}\n"
     ]
    }
   ],
   "source": [
    "import requests\n",
    "\n",
    "url = \"http://127.0.0.1:8000/\"\n",
    "data = {\n",
    "    \"nome\": \"João\",\n",
    "    \"cpf\": \"07202642190\",\n",
    "    \"idade\": 24,\n",
    "    \"peso\": 74.83,\n",
    "    \"altura\": 1.70,\n",
    "    \"sexo\": \"M\",\n",
    "    \"categoria\": {\n",
    "        \"nome\": \"Categoria Teste\"\n",
    "    },\n",
    "    \"centro_treinamento\": {\n",
    "        \"nome\": \"Centro Teste\"\n",
    "    }\n",
    "}\n",
    "response = requests.post(url, json=data)\n",
    "print(response.json())\n"
   ]
  }
 ],
 "metadata": {
  "kernelspec": {
   "display_name": "base",
   "language": "python",
   "name": "python3"
  },
  "language_info": {
   "codemirror_mode": {
    "name": "ipython",
    "version": 3
   },
   "file_extension": ".py",
   "mimetype": "text/x-python",
   "name": "python",
   "nbconvert_exporter": "python",
   "pygments_lexer": "ipython3",
   "version": "3.12.4"
  }
 },
 "nbformat": 4,
 "nbformat_minor": 2
}
